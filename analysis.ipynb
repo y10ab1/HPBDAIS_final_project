{
 "cells": [
  {
   "attachments": {},
   "cell_type": "markdown",
   "metadata": {},
   "source": [
    "# Create pseudo data to stimulate different fMRI parcellations"
   ]
  },
  {
   "cell_type": "code",
   "execution_count": 1,
   "metadata": {},
   "outputs": [],
   "source": [
    "# Assuming there are 500000 voxels in a fMRI scan\n",
    "\n",
    "\n",
    "# Pseudo data is created by sci-kit learn make_classification function\n",
    "\n",
    "import numpy as np\n",
    "import cupy as cp\n",
    "import pandas as pd\n",
    "import time\n",
    "import pickle\n",
    "from joblib import Parallel, delayed\n",
    "\n",
    "# from cuml import make_classification\n",
    "from sklearn.datasets import make_classification\n",
    "\n",
    "\n",
    "# Get k parcels(patches) with same number of voxels(features)\n",
    "def get_parcels(X, y, k, dtype='cp'):\n",
    "    \"\"\"\n",
    "    X: numpy or cupy array, shape = (n_samples, n_features)\n",
    "    y: numpy or cupy array, shape = (n_samples, )\n",
    "    k: int, number of patches\n",
    "    \"\"\"\n",
    "    # get number of voxels in each parcel\n",
    "    n_voxels_per_parcel = int(X.shape[1]/k)\n",
    "    # get k parcels\n",
    "    parcels = []\n",
    "    if dtype == 'cp':\n",
    "        for i in range(k):\n",
    "            parcels.append((X[:, i*n_voxels_per_parcel:(i+1)*n_voxels_per_parcel], y))\n",
    "    else:\n",
    "        for i in range(k):\n",
    "            parcels.append((X[:, i*n_voxels_per_parcel:(i+1)*n_voxels_per_parcel].get(), y.get()))\n",
    "        \n",
    "    return parcels\n",
    "    \n",
    "    \n",
    "    \n",
    "\n",
    "# Get k parcels(patches) with random number of voxels(features) in each parcel\n",
    "def get_parcels_diff(X, y, k=300, least_voxels_per_parcel=100, dtype='cp'):\n",
    "    \"\"\"\n",
    "    X: numpy or cupy array, shape = (n_samples, n_features)\n",
    "    y: numpy or cupy array, shape = (n_samples, )\n",
    "    k: int, number of parcels\n",
    "    least_voxels_per_parcel: int, the least number of voxels in each parcel\n",
    "    \"\"\"\n",
    "    # get k parcels\n",
    "    parcels = []\n",
    "    if dtype == 'cp':\n",
    "        for i in range(k):\n",
    "            # get number of voxels in each parcel\n",
    "            n_voxels_per_parcel = cp.random.randint(least_voxels_per_parcel, X.shape[1]//k)\n",
    "            parcels.append((X[:, i*n_voxels_per_parcel:(i+1)*n_voxels_per_parcel], y))\n",
    "    else:\n",
    "        for i in range(k):\n",
    "            # get number of voxels in each parcel\n",
    "            n_voxels_per_parcel = np.random.randint(least_voxels_per_parcel, X.shape[1]//k)\n",
    "            parcels.append((X[:, i*n_voxels_per_parcel:(i+1)*n_voxels_per_parcel].get(), y.get()))\n",
    "\n",
    "\n"
   ]
  },
  {
   "attachments": {},
   "cell_type": "markdown",
   "metadata": {},
   "source": [
    "# Compare the performance of sklearn and cuML (No parallelization)"
   ]
  },
  {
   "cell_type": "code",
   "execution_count": 2,
   "metadata": {},
   "outputs": [
    {
     "ename": "",
     "evalue": "",
     "output_type": "error",
     "traceback": [
      "\u001b[1;31mCanceled future for execute_request message before replies were done"
     ]
    },
    {
     "ename": "",
     "evalue": "",
     "output_type": "error",
     "traceback": [
      "\u001b[1;31mThe Kernel crashed while executing code in the the current cell or a previous cell. Please review the code in the cell(s) to identify a possible cause of the failure. Click <a href='https://aka.ms/vscodeJupyterKernelCrash'>here</a> for more info. View Jupyter <a href='command:jupyter.viewOutput'>log</a> for further details."
     ]
    }
   ],
   "source": [
    "# Compare the performance of sklearn and cuML by evaluating the accuracy of the model and \n",
    "# the time it takes to train the model of different parcellations\n",
    "\n",
    "# hyperparameters\n",
    "N_SAMPLES = 5000 # 1000 or 100000\n",
    "N_INFORMATIVE_RATIO = 0.01 # 1% of voxels are informative\n",
    "N_CLASSES = 8\n",
    "DATA_TYPE = np.float32 # set data type to float32 to leaverage GPU\n",
    "N_FEATURES = 500000\n",
    "N_PATCHES = 20 # 20 or 300\n",
    "PARCEL_VOXELS = 'same' # 'same' or 'diff'\n",
    "\n",
    "\n",
    "X, y = make_classification(n_samples=N_SAMPLES, \n",
    "                                n_features=N_FEATURES, \n",
    "                                n_informative=int(N_FEATURES*N_INFORMATIVE_RATIO),\n",
    "                                n_classes=N_CLASSES)\n",
    "\n",
    "\n",
    "# Create a list of different parcellations\n",
    "parcellations = [get_parcels(X, y, N_PATCHES)]\n",
    "parcellations_name = {}\n",
    "\n",
    "# Performance log\n",
    "df = pd.DataFrame(columns=['parcel_type', 'n_features', 'n_informative', 'n_classes', 'n_samples', 'sklearn_time', 'sklearn_accuracy', 'cuml_time', 'cuml_accuracy'])\n",
    "\n"
   ]
  },
  {
   "attachments": {},
   "cell_type": "markdown",
   "metadata": {},
   "source": [
    "### Sklearn"
   ]
  },
  {
   "cell_type": "code",
   "execution_count": null,
   "metadata": {},
   "outputs": [],
   "source": [
    "%%time\n",
    "# Train and evaluate with sklearn with cross validation\n",
    "from sklearn.ensemble import RandomForestClassifier as skRandomForestClassifier\n",
    "from sklearn.model_selection import cross_val_score, cross_validate\n",
    "from cuml.metrics import accuracy_score\n",
    "\n",
    "from tqdm import tqdm\n",
    "\n",
    "for i in range(len(parcellations)):\n",
    "    for j in tqdm(range(len(parcellations[i]))):\n",
    "        # sklearn\n",
    "        start = time.time()\n",
    "        sk_model = skRandomForestClassifier(n_estimators=100, max_depth=2, random_state=0)\n",
    "        scores = cross_validate(sk_model, parcellations[i][j][0].get(), parcellations[i][j][1].get(), cv=5, scoring='accuracy')\n",
    "        end = time.time()\n",
    "        sklearn_time = end - start\n",
    "        sklearn_accuracy = scores['test_score'].mean()\n",
    "\n",
    "        \n",
    "        # log\n",
    "        df = pd.concat([df, pd.DataFrame.from_records([{'parcel_type': 'sklearn_non_parallel',\n",
    "                                            'n_features': parcellations[i][j][0].shape[1],\n",
    "                                            'n_informative': N_INFORMATIVE_RATIO*parcellations[i][j][0].shape[1],\n",
    "                                            'n_classes': N_CLASSES,\n",
    "                                            'n_samples': N_SAMPLES,\n",
    "                                            'sklearn_time': sklearn_time,\n",
    "                                            'sklearn_accuracy': sklearn_accuracy,\n",
    "                                            }])], ignore_index=True)\n",
    "        \n",
    "\n"
   ]
  },
  {
   "cell_type": "code",
   "execution_count": null,
   "metadata": {},
   "outputs": [],
   "source": [
    "# # Save the log\n",
    "# df.to_csv('performance_log_no_parallel.csv', index=False)"
   ]
  },
  {
   "attachments": {},
   "cell_type": "markdown",
   "metadata": {},
   "source": [
    "# Compare the performance of sklearn and cuML (Parallelization)"
   ]
  },
  {
   "attachments": {},
   "cell_type": "markdown",
   "metadata": {},
   "source": [
    "### cuML"
   ]
  },
  {
   "cell_type": "code",
   "execution_count": null,
   "metadata": {},
   "outputs": [],
   "source": [
    "# Train and evaluate with cuML with cross validation\n",
    "from cuml.ensemble import RandomForestClassifier as cuRandomForestClassifier\n",
    "from sklearn.model_selection import KFold\n",
    "\n",
    "kfold = KFold(n_splits=5)\n",
    "\n",
    "for i in range(len(parcellations)):\n",
    "    for j in tqdm(range(len(parcellations[i]))):\n",
    "\n",
    "        # cuML\n",
    "        fold_accuracy = cp.array([])\n",
    "        start = time.time()\n",
    "        for train_idx, test_idx in kfold.split(X=parcellations[i][j][0], y=parcellations[i][j][1]):\n",
    "            cu_model = cuRandomForestClassifier(n_estimators=100, max_depth=2, random_state=0)\n",
    "            cu_model.fit(parcellations[i][j][0][train_idx], parcellations[i][j][1][train_idx])\n",
    "            fold_accuracy = cp.append(fold_accuracy, accuracy_score(parcellations[i][j][1][test_idx], cu_model.predict(parcellations[i][j][0][test_idx])))\n",
    "        end = time.time()\n",
    "        cuml_time = end - start\n",
    "        cuml_accuracy = cp.asnumpy(fold_accuracy).mean()\n",
    "        \n",
    "        # log\n",
    "        df = pd.concat([df, pd.DataFrame.from_records([{'parcel_type': 'cuML',\n",
    "                            'n_features': parcellations[i][j][0].shape[1],\n",
    "                            'n_informative': N_INFORMATIVE_RATIO*parcellations[i][j][0].shape[1],\n",
    "                            'n_classes': N_CLASSES,\n",
    "                            'n_samples': N_SAMPLES,\n",
    "                            'cuml_time': cuml_time,\n",
    "                            'cuml_accuracy': cuml_accuracy,\n",
    "                            }])], ignore_index=True)"
   ]
  },
  {
   "attachments": {},
   "cell_type": "markdown",
   "metadata": {},
   "source": [
    "### Sklearn (Parallelization)"
   ]
  },
  {
   "cell_type": "code",
   "execution_count": null,
   "metadata": {},
   "outputs": [],
   "source": [
    "%%time\n",
    "# parallelize the training and evaluation process for sklearn\n",
    "\n",
    "BATCH_SIZE = 5 # number of models to train at a time\n",
    "N_JOBS = 1 # number of CPUs to use for a RandomForestClassifier\n",
    "\n",
    "\n",
    "# Define a function to train a model and return its score\n",
    "def train_and_log(i, j, parcellation):\n",
    "    # sklearn\n",
    "    start = time.time()\n",
    "    sk_model = skRandomForestClassifier(n_estimators=100, max_depth=2, random_state=0, n_jobs=N_JOBS)\n",
    "    scores = cross_validate(sk_model, parcellation[0].get(), parcellation[1].get(), cv=5, scoring='accuracy')\n",
    "    end = time.time()\n",
    "    sklearn_time = end - start\n",
    "    sklearn_accuracy = scores['test_score'].mean()\n",
    "\n",
    "    # log\n",
    "    return {'parcel_type': 'sklearn_parallel',\n",
    "            'n_features': parcellation[0].shape[1],\n",
    "            'n_informative': N_INFORMATIVE_RATIO*parcellation[0].shape[1],\n",
    "            'n_classes': N_CLASSES,\n",
    "            'n_samples': N_SAMPLES,\n",
    "            'sklearn_time': sklearn_time,\n",
    "            'sklearn_accuracy': sklearn_accuracy,\n",
    "            }\n",
    "\n",
    "# Create a list to store the results\n",
    "results = []\n",
    "\n",
    "# Define the number of models to train at a time as the number of CPUs\n",
    "batch_size = BATCH_SIZE\n",
    "\n",
    "# Flatten the list of parcellations and associated indices\n",
    "flat_parcellations = [(i, j, parcellations[i][j]) for i in range(len(parcellations)) for j in range(len(parcellations[i]))]\n",
    "\n",
    "# Use joblib to train models and log results in batches\n",
    "for i in range(0, len(flat_parcellations), batch_size):\n",
    "    batch_parcellations = flat_parcellations[i:i+batch_size]\n",
    "    batch_results = Parallel(n_jobs=-1)(delayed(train_and_log)(*parcellation) for parcellation in batch_parcellations)\n",
    "    results.extend(batch_results)\n",
    "\n",
    "# Convert results to DataFrame\n",
    "df = pd.concat([df, pd.DataFrame.from_records(results)], ignore_index=True)\n",
    "df"
   ]
  },
  {
   "cell_type": "code",
   "execution_count": null,
   "metadata": {},
   "outputs": [],
   "source": [
    "# Save the log\n",
    "df.to_csv(f'result_nsapmles{N_SAMPLES}_npaches{N_PATCHES}_parcelsVoxels_{PARCEL_VOXELS}.csv', index=False)"
   ]
  },
  {
   "attachments": {},
   "cell_type": "markdown",
   "metadata": {},
   "source": [
    "### cuML (Parallelization)"
   ]
  },
  {
   "cell_type": "code",
   "execution_count": null,
   "metadata": {},
   "outputs": [],
   "source": [
    "# %%time\n",
    "# # parallelize the training and evaluation process for cuML\n",
    "\n",
    "# BATCH_SIZE = 5 # number of models to train at a time\n",
    "# N_JOBS = 1 # number of CPUs to use for a RandomForestClassifier\n",
    "\n",
    "\n",
    "# # Define a function to train a model and return its score\n",
    "# def train_and_log(i, j, parcellation):\n",
    "#     # cuML\n",
    "#     fold_accuracy = cp.array([])\n",
    "#     # start = time.time()\n",
    "#     # for train_idx, test_idx in kfold.split(X=parcellation[0], y=parcellation[1]):\n",
    "#     #     cu_model = cuRandomForestClassifier(n_estimators=100, max_depth=2)\n",
    "#     #     cu_model.fit(parcellation[0][train_idx], parcellation[1][train_idx])\n",
    "#     #     fold_accuracy = cp.append(fold_accuracy, accuracy_score(parcellation[1][test_idx], cu_model.predict(parcellation[0][test_idx])))\n",
    "#     # end = time.time()\n",
    "#     start = time.time()\n",
    "#     cu_model = cuRandomForestClassifier(n_estimators=100, max_depth=2)\n",
    "#     scores = cross_validate(cu_model, parcellation[0].get(), parcellation[1].get(), cv=5, scoring='accuracy')\n",
    "#     end = time.time()\n",
    "#     cuml_time = end - start\n",
    "#     cuml_accuracy = cp.asnumpy(fold_accuracy).mean()\n",
    "\n",
    "#     # log\n",
    "#     return {'parcel_type': i,\n",
    "#             'n_features': parcellation[0].shape[1],\n",
    "#             'n_informative': N_INFORMATIVE_RATIO*parcellation[0].shape[1],\n",
    "#             'n_classes': N_CLASSES,\n",
    "#             'n_samples': N_SAMPLES,\n",
    "#             'cuml_time': cuml_time,\n",
    "#             'cuml_accuracy': cuml_accuracy,\n",
    "#             }\n",
    "    \n",
    "    \n",
    "# # Create a list to store the results\n",
    "# results = []\n",
    "\n",
    "# # Define the number of models to train at a time as the number of CPUs\n",
    "# batch_size = BATCH_SIZE\n",
    "\n",
    "# # Flatten the list of parcellations and associated indices\n",
    "# flat_parcellations = [(i, j, parcellations[i][j]) for i in range(len(parcellations)) for j in range(len(parcellations[i]))]\n",
    "\n",
    "# # Use joblib to train models and log results in batches\n",
    "# for i in range(0, len(flat_parcellations), batch_size):\n",
    "#     batch_parcellations = flat_parcellations[i:i+batch_size]\n",
    "#     batch_results = Parallel(n_jobs=-1)(delayed(train_and_log)(*parcellation) for parcellation in batch_parcellations)\n",
    "#     results.extend(batch_results)\n",
    "\n",
    "# # Convert results to DataFrame\n",
    "# df = pd.DataFrame(results)\n"
   ]
  }
 ],
 "metadata": {
  "kernelspec": {
   "display_name": "Python 3 (ipykernel)",
   "language": "python",
   "name": "python3"
  },
  "language_info": {
   "codemirror_mode": {
    "name": "ipython",
    "version": 3
   },
   "file_extension": ".py",
   "mimetype": "text/x-python",
   "name": "python",
   "nbconvert_exporter": "python",
   "pygments_lexer": "ipython3",
   "version": "3.10.9"
  },
  "orig_nbformat": 4
 },
 "nbformat": 4,
 "nbformat_minor": 2
}
